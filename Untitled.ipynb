{
 "cells": [
  {
   "cell_type": "markdown",
   "id": "ff991a44",
   "metadata": {},
   "source": [
    "## <center><h1 style=\"color:red\">Map of Science</h1></center> \n",
    "### Solución del deber\n",
    "#### Bioinformatica \n",
    "#### Nombre: Samantha Guiñanzaca\n",
    "#### Grupo 1 \n",
    " * Basado en las sesiones de Visualización de datos y Expresiones resulares. Realice una adaptación de la solución del MAP OF SCIENCE. * "
   ]
  },
  {
   "cell_type": "markdown",
   "id": "f4afac90",
   "metadata": {},
   "source": [
    "### Importar módulos "
   ]
  },
  {
   "cell_type": "code",
   "execution_count": 3,
   "id": "3debec87",
   "metadata": {},
   "outputs": [],
   "source": [
    "import re\n",
    "import csv\n",
    "import pandas as pd\n",
    "import matplotlib.pyplot as pltb\n",
    "import itertools"
   ]
  },
  {
   "cell_type": "code",
   "execution_count": 4,
   "id": "0a3c4dc3",
   "metadata": {},
   "outputs": [],
   "source": [
    "with open('./pubmed_MEG3incanc_set.txt','r', encoding ='utf-8-sig') as f:\n",
    "    texto = f.read()"
   ]
  },
  {
   "cell_type": "code",
   "execution_count": 5,
   "id": "87b64772",
   "metadata": {},
   "outputs": [],
   "source": [
    "texto1 = re.findall(r\"\\,\\s[A-Z]+[A-z]{2,11}\\.\", texto)"
   ]
  },
  {
   "cell_type": "code",
   "execution_count": null,
   "id": "79cc09bd",
   "metadata": {},
   "outputs": [],
   "source": []
  }
 ],
 "metadata": {
  "kernelspec": {
   "display_name": "Python 3 (ipykernel)",
   "language": "python",
   "name": "python3"
  },
  "language_info": {
   "codemirror_mode": {
    "name": "ipython",
    "version": 3
   },
   "file_extension": ".py",
   "mimetype": "text/x-python",
   "name": "python",
   "nbconvert_exporter": "python",
   "pygments_lexer": "ipython3",
   "version": "3.9.7"
  }
 },
 "nbformat": 4,
 "nbformat_minor": 5
}
