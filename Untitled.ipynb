{
 "cells": [
  {
   "cell_type": "markdown",
   "id": "40f2f87f",
   "metadata": {},
   "source": [
    "## <center><h1 style=\"color:red\">Map of Science</h1></center> \n",
    "### Solución del deber\n",
    "#### Bioinformatica \n",
    "#### Nombre: Samantha Guiñanzaca\n",
    "#### Grupo 1 \n",
    " * Basado en las sesiones de Visualización de datos y Expresiones resulares. Realice una adaptación de la solución del MAP OF SCIENCE. * "
   ]
  },
  {
   "cell_type": "markdown",
   "id": "ef6fae93",
   "metadata": {},
   "source": [
    "### Importar módulos "
   ]
  },
  {
   "cell_type": "code",
   "execution_count": 3,
   "id": "290e7b04",
   "metadata": {},
   "outputs": [],
   "source": [
    "import re\n",
    "import csv\n",
    "import pandas as pd\n",
    "import matplotlib.pyplot as pltb\n",
    "import itertools"
   ]
  },
  {
   "cell_type": "code",
   "execution_count": 4,
   "id": "875e038f",
   "metadata": {},
   "outputs": [],
   "source": [
    "with open('./pubmed_MEG3incanc_set.txt','r', encoding ='utf-8-sig') as f:\n",
    "    texto = f.read()"
   ]
  },
  {
   "cell_type": "code",
   "execution_count": 5,
   "id": "5a1c464f",
   "metadata": {},
   "outputs": [],
   "source": [
    "texto1 = re.findall(r\"\\,\\s[A-Z]+[A-z]{2,11}\\.\", texto)"
   ]
  },
  {
   "cell_type": "code",
   "execution_count": 11,
   "id": "00613735",
   "metadata": {},
   "outputs": [
    {
     "name": "stdout",
     "output_type": "stream",
     "text": [
      "[', Argentina.', ', Australia.', ', Austria.', ', Basel.', ', Belgium.', ', Brazil.', ', Canada.', ', China.', ', Denmark.', ', Egypt.', ', France.', ', Germany.', ', Greece.', ', Hungary.', ', Iceland.', ', Illinois.', ', Inc.', ', India.', ', Iran.', ', Iraq.', ', Italy.', ', Japan.', ', Junko].', ', Korea.', ', Latvia.', ', Lithuania.', ', Ltd.', ', Maryland.', ', Mexico.', ', Michigan.', ', Netherlands.', ', Norway.', ', Ohio.', ', Pakistan.', ', Poland.', ', Romania.', ', Russia.', ', Singapore.', ', Spain.', ', Sweden.', ', Switzerland.', ', Taiwan.', ', Tex.', ', USA.']\n"
     ]
    }
   ],
   "source": [
    "unique_text =list(set(texto1))\n",
    "unique_text.sort()\n",
    "a = unique_text\n",
    "print(a[:50])"
   ]
  },
  {
   "cell_type": "code",
   "execution_count": 12,
   "id": "29b1912e",
   "metadata": {},
   "outputs": [],
   "source": [
    "b = unique_text\n",
    "b.remove(', Basel.')\n",
    "b.remove(', Illinois.')\n",
    "b.remove(', Inc.')\n",
    "b.remove(', Junko].')\n",
    "b.remove(', Ltd.')\n",
    "b.remove(', Maryland.')\n",
    "b.remove(', Michigan.')\n",
    "b.remove(', Ohio.')\n",
    "b.remove(', Tex.')"
   ]
  },
  {
   "cell_type": "code",
   "execution_count": 13,
   "id": "c8fda015",
   "metadata": {},
   "outputs": [
    {
     "name": "stdout",
     "output_type": "stream",
     "text": [
      "\n",
      "Lista de países:  [', Argentina.', ', Australia.', ', Austria.', ', Belgium.', ', Brazil.', ', Canada.', ', China.', ', Denmark.', ', Egypt.', ', France.', ', Germany.', ', Greece.', ', Hungary.', ', Iceland.', ', India.', ', Iran.', ', Iraq.', ', Italy.', ', Japan.', ', Korea.', ', Latvia.', ', Lithuania.', ', Mexico.', ', Netherlands.', ', Norway.', ', Pakistan.', ', Poland.', ', Romania.', ', Russia.', ', Singapore.', ', Spain.', ', Sweden.', ', Switzerland.', ', Taiwan.', ', USA.']\n"
     ]
    }
   ],
   "source": [
    "print() \n",
    "print('Lista de países: ', b)"
   ]
  },
  {
   "cell_type": "code",
   "execution_count": 14,
   "id": "41e77465",
   "metadata": {
    "scrolled": true
   },
   "outputs": [
    {
     "name": "stdout",
     "output_type": "stream",
     "text": [
      "\n",
      "Lista def paises definitiva:  ['Argentina', 'Australia', 'Austria', 'Belgium', 'Brazil', 'Canada', 'China', 'Denmark', 'Egypt', 'France', 'Germany', 'Greece', 'Hungary', 'Iceland', 'India', 'Iran', 'Iraq', 'Italy', 'Japan', 'Korea', 'Latvia', 'Lithuania', 'Mexico', 'Netherlands', 'Norway', 'Pakistan', 'Poland', 'Romania', 'Russia', 'Singapore', 'Spain', 'Sweden', 'Switzerland', 'Taiwan', 'USA']\n"
     ]
    }
   ],
   "source": [
    "    c = \"\".join(b)\n",
    "    d = c.split(\", \")\n",
    "    e = \"\".join(d)\n",
    "    f = e.split(\".\")\n",
    "    f.remove(\"\")\n",
    "    g = f\n",
    "    print()\n",
    "    print('Lista def paises definitiva: ', g)"
   ]
  },
  {
   "cell_type": "code",
   "execution_count": 15,
   "id": "6901b835",
   "metadata": {},
   "outputs": [
    {
     "data": {
      "text/html": [
       "<div>\n",
       "<style scoped>\n",
       "    .dataframe tbody tr th:only-of-type {\n",
       "        vertical-align: middle;\n",
       "    }\n",
       "\n",
       "    .dataframe tbody tr th {\n",
       "        vertical-align: top;\n",
       "    }\n",
       "\n",
       "    .dataframe thead th {\n",
       "        text-align: right;\n",
       "    }\n",
       "</style>\n",
       "<table border=\"1\" class=\"dataframe\">\n",
       "  <thead>\n",
       "    <tr style=\"text-align: right;\">\n",
       "      <th></th>\n",
       "      <th>country</th>\n",
       "      <th>latitude</th>\n",
       "      <th>longitude</th>\n",
       "      <th>name</th>\n",
       "    </tr>\n",
       "  </thead>\n",
       "  <tbody>\n",
       "    <tr>\n",
       "      <th>0</th>\n",
       "      <td>AD</td>\n",
       "      <td>42.546245</td>\n",
       "      <td>1.601554</td>\n",
       "      <td>Andorra</td>\n",
       "    </tr>\n",
       "    <tr>\n",
       "      <th>1</th>\n",
       "      <td>AE</td>\n",
       "      <td>23.424076</td>\n",
       "      <td>53.847818</td>\n",
       "      <td>United Arab Emirates</td>\n",
       "    </tr>\n",
       "    <tr>\n",
       "      <th>2</th>\n",
       "      <td>AF</td>\n",
       "      <td>33.939110</td>\n",
       "      <td>67.709953</td>\n",
       "      <td>Afghanistan</td>\n",
       "    </tr>\n",
       "    <tr>\n",
       "      <th>3</th>\n",
       "      <td>AG</td>\n",
       "      <td>17.060816</td>\n",
       "      <td>-61.796428</td>\n",
       "      <td>Antigua and Barbuda</td>\n",
       "    </tr>\n",
       "    <tr>\n",
       "      <th>4</th>\n",
       "      <td>AI</td>\n",
       "      <td>18.220554</td>\n",
       "      <td>-63.068615</td>\n",
       "      <td>Anguilla</td>\n",
       "    </tr>\n",
       "    <tr>\n",
       "      <th>5</th>\n",
       "      <td>AL</td>\n",
       "      <td>41.153332</td>\n",
       "      <td>20.168331</td>\n",
       "      <td>Albania</td>\n",
       "    </tr>\n",
       "    <tr>\n",
       "      <th>6</th>\n",
       "      <td>AM</td>\n",
       "      <td>40.069099</td>\n",
       "      <td>45.038189</td>\n",
       "      <td>Armenia</td>\n",
       "    </tr>\n",
       "    <tr>\n",
       "      <th>7</th>\n",
       "      <td>AN</td>\n",
       "      <td>12.226079</td>\n",
       "      <td>-69.060087</td>\n",
       "      <td>Netherlands Antilles</td>\n",
       "    </tr>\n",
       "    <tr>\n",
       "      <th>8</th>\n",
       "      <td>AO</td>\n",
       "      <td>-11.202692</td>\n",
       "      <td>17.873887</td>\n",
       "      <td>Angola</td>\n",
       "    </tr>\n",
       "    <tr>\n",
       "      <th>9</th>\n",
       "      <td>AQ</td>\n",
       "      <td>-75.250973</td>\n",
       "      <td>-0.071389</td>\n",
       "      <td>Antarctica</td>\n",
       "    </tr>\n",
       "  </tbody>\n",
       "</table>\n",
       "</div>"
      ],
      "text/plain": [
       "  country   latitude  longitude                  name\n",
       "0      AD  42.546245   1.601554               Andorra\n",
       "1      AE  23.424076  53.847818  United Arab Emirates\n",
       "2      AF  33.939110  67.709953           Afghanistan\n",
       "3      AG  17.060816 -61.796428   Antigua and Barbuda\n",
       "4      AI  18.220554 -63.068615              Anguilla\n",
       "5      AL  41.153332  20.168331               Albania\n",
       "6      AM  40.069099  45.038189               Armenia\n",
       "7      AN  12.226079 -69.060087  Netherlands Antilles\n",
       "8      AO -11.202692  17.873887                Angola\n",
       "9      AQ -75.250973  -0.071389            Antarctica"
      ]
     },
     "execution_count": 15,
     "metadata": {},
     "output_type": "execute_result"
    }
   ],
   "source": [
    "data = pd.read_csv('./Paises_ubicacion.csv', engine='python', skipfooter=3)\n",
    "data.head(10)"
   ]
  },
  {
   "cell_type": "code",
   "execution_count": 16,
   "id": "a23352e9",
   "metadata": {},
   "outputs": [
    {
     "data": {
      "text/html": [
       "<div>\n",
       "<style scoped>\n",
       "    .dataframe tbody tr th:only-of-type {\n",
       "        vertical-align: middle;\n",
       "    }\n",
       "\n",
       "    .dataframe tbody tr th {\n",
       "        vertical-align: top;\n",
       "    }\n",
       "\n",
       "    .dataframe thead th {\n",
       "        text-align: right;\n",
       "    }\n",
       "</style>\n",
       "<table border=\"1\" class=\"dataframe\">\n",
       "  <thead>\n",
       "    <tr style=\"text-align: right;\">\n",
       "      <th></th>\n",
       "      <th>country</th>\n",
       "      <th>latitude</th>\n",
       "      <th>longitude</th>\n",
       "      <th>name</th>\n",
       "    </tr>\n",
       "  </thead>\n",
       "  <tbody>\n",
       "    <tr>\n",
       "      <th>10</th>\n",
       "      <td>AR</td>\n",
       "      <td>-38.416097</td>\n",
       "      <td>-63.616672</td>\n",
       "      <td>Argentina</td>\n",
       "    </tr>\n",
       "    <tr>\n",
       "      <th>12</th>\n",
       "      <td>AT</td>\n",
       "      <td>47.516231</td>\n",
       "      <td>14.550072</td>\n",
       "      <td>Austria</td>\n",
       "    </tr>\n",
       "    <tr>\n",
       "      <th>13</th>\n",
       "      <td>AU</td>\n",
       "      <td>-25.274398</td>\n",
       "      <td>133.775136</td>\n",
       "      <td>Australia</td>\n",
       "    </tr>\n",
       "    <tr>\n",
       "      <th>19</th>\n",
       "      <td>BE</td>\n",
       "      <td>50.503887</td>\n",
       "      <td>4.469936</td>\n",
       "      <td>Belgium</td>\n",
       "    </tr>\n",
       "    <tr>\n",
       "      <th>28</th>\n",
       "      <td>BR</td>\n",
       "      <td>-14.235004</td>\n",
       "      <td>-51.925280</td>\n",
       "      <td>Brazil</td>\n",
       "    </tr>\n",
       "    <tr>\n",
       "      <th>35</th>\n",
       "      <td>CA</td>\n",
       "      <td>56.130366</td>\n",
       "      <td>-106.346771</td>\n",
       "      <td>Canada</td>\n",
       "    </tr>\n",
       "    <tr>\n",
       "      <th>40</th>\n",
       "      <td>CH</td>\n",
       "      <td>46.818188</td>\n",
       "      <td>8.227512</td>\n",
       "      <td>Switzerland</td>\n",
       "    </tr>\n",
       "    <tr>\n",
       "      <th>45</th>\n",
       "      <td>CN</td>\n",
       "      <td>35.861660</td>\n",
       "      <td>104.195397</td>\n",
       "      <td>China</td>\n",
       "    </tr>\n",
       "    <tr>\n",
       "      <th>53</th>\n",
       "      <td>DE</td>\n",
       "      <td>51.165691</td>\n",
       "      <td>10.451526</td>\n",
       "      <td>Germany</td>\n",
       "    </tr>\n",
       "    <tr>\n",
       "      <th>55</th>\n",
       "      <td>DK</td>\n",
       "      <td>56.263920</td>\n",
       "      <td>9.501785</td>\n",
       "      <td>Denmark</td>\n",
       "    </tr>\n",
       "  </tbody>\n",
       "</table>\n",
       "</div>"
      ],
      "text/plain": [
       "   country   latitude   longitude         name\n",
       "10      AR -38.416097  -63.616672    Argentina\n",
       "12      AT  47.516231   14.550072      Austria\n",
       "13      AU -25.274398  133.775136    Australia\n",
       "19      BE  50.503887    4.469936      Belgium\n",
       "28      BR -14.235004  -51.925280       Brazil\n",
       "35      CA  56.130366 -106.346771       Canada\n",
       "40      CH  46.818188    8.227512  Switzerland\n",
       "45      CN  35.861660  104.195397        China\n",
       "53      DE  51.165691   10.451526      Germany\n",
       "55      DK  56.263920    9.501785      Denmark"
      ]
     },
     "execution_count": 16,
     "metadata": {},
     "output_type": "execute_result"
    }
   ],
   "source": [
    "name = data[data.name.isin(g)]\n",
    "name.head(10)"
   ]
  },
  {
   "cell_type": "code",
   "execution_count": 17,
   "id": "e9ed045d",
   "metadata": {},
   "outputs": [
    {
     "data": {
      "text/html": [
       "<div>\n",
       "<style scoped>\n",
       "    .dataframe tbody tr th:only-of-type {\n",
       "        vertical-align: middle;\n",
       "    }\n",
       "\n",
       "    .dataframe tbody tr th {\n",
       "        vertical-align: top;\n",
       "    }\n",
       "\n",
       "    .dataframe thead th {\n",
       "        text-align: right;\n",
       "    }\n",
       "</style>\n",
       "<table border=\"1\" class=\"dataframe\">\n",
       "  <thead>\n",
       "    <tr style=\"text-align: right;\">\n",
       "      <th></th>\n",
       "      <th>country</th>\n",
       "      <th>latitude</th>\n",
       "      <th>longitude</th>\n",
       "      <th>name</th>\n",
       "    </tr>\n",
       "  </thead>\n",
       "  <tbody>\n",
       "    <tr>\n",
       "      <th>10</th>\n",
       "      <td>AR</td>\n",
       "      <td>-38.416097</td>\n",
       "      <td>-63.616672</td>\n",
       "      <td>Argentina</td>\n",
       "    </tr>\n",
       "    <tr>\n",
       "      <th>13</th>\n",
       "      <td>AU</td>\n",
       "      <td>-25.274398</td>\n",
       "      <td>133.775136</td>\n",
       "      <td>Australia</td>\n",
       "    </tr>\n",
       "    <tr>\n",
       "      <th>12</th>\n",
       "      <td>AT</td>\n",
       "      <td>47.516231</td>\n",
       "      <td>14.550072</td>\n",
       "      <td>Austria</td>\n",
       "    </tr>\n",
       "    <tr>\n",
       "      <th>19</th>\n",
       "      <td>BE</td>\n",
       "      <td>50.503887</td>\n",
       "      <td>4.469936</td>\n",
       "      <td>Belgium</td>\n",
       "    </tr>\n",
       "    <tr>\n",
       "      <th>28</th>\n",
       "      <td>BR</td>\n",
       "      <td>-14.235004</td>\n",
       "      <td>-51.925280</td>\n",
       "      <td>Brazil</td>\n",
       "    </tr>\n",
       "    <tr>\n",
       "      <th>35</th>\n",
       "      <td>CA</td>\n",
       "      <td>56.130366</td>\n",
       "      <td>-106.346771</td>\n",
       "      <td>Canada</td>\n",
       "    </tr>\n",
       "    <tr>\n",
       "      <th>45</th>\n",
       "      <td>CN</td>\n",
       "      <td>35.861660</td>\n",
       "      <td>104.195397</td>\n",
       "      <td>China</td>\n",
       "    </tr>\n",
       "    <tr>\n",
       "      <th>55</th>\n",
       "      <td>DK</td>\n",
       "      <td>56.263920</td>\n",
       "      <td>9.501785</td>\n",
       "      <td>Denmark</td>\n",
       "    </tr>\n",
       "    <tr>\n",
       "      <th>61</th>\n",
       "      <td>EG</td>\n",
       "      <td>26.820553</td>\n",
       "      <td>30.802498</td>\n",
       "      <td>Egypt</td>\n",
       "    </tr>\n",
       "    <tr>\n",
       "      <th>71</th>\n",
       "      <td>FR</td>\n",
       "      <td>46.227638</td>\n",
       "      <td>2.213749</td>\n",
       "      <td>France</td>\n",
       "    </tr>\n",
       "  </tbody>\n",
       "</table>\n",
       "</div>"
      ],
      "text/plain": [
       "   country   latitude   longitude       name\n",
       "10      AR -38.416097  -63.616672  Argentina\n",
       "13      AU -25.274398  133.775136  Australia\n",
       "12      AT  47.516231   14.550072    Austria\n",
       "19      BE  50.503887    4.469936    Belgium\n",
       "28      BR -14.235004  -51.925280     Brazil\n",
       "35      CA  56.130366 -106.346771     Canada\n",
       "45      CN  35.861660  104.195397      China\n",
       "55      DK  56.263920    9.501785    Denmark\n",
       "61      EG  26.820553   30.802498      Egypt\n",
       "71      FR  46.227638    2.213749     France"
      ]
     },
     "execution_count": 17,
     "metadata": {},
     "output_type": "execute_result"
    }
   ],
   "source": [
    "paises = data[data.country.isin(g)]\n",
    "all_data =pd.concat([name,paises]).drop_duplicates().sort_values('name')\n",
    "all_data.head(10)"
   ]
  },
  {
   "cell_type": "code",
   "execution_count": 18,
   "id": "6bddb2b6",
   "metadata": {},
   "outputs": [],
   "source": [
    "import matplotlib.pyplot as plt"
   ]
  },
  {
   "cell_type": "code",
   "execution_count": 19,
   "id": "c8da036f",
   "metadata": {},
   "outputs": [
    {
     "data": {
      "image/png": "[encoded data removed]",
      "text/plain": [
       "<Figure size 1296x864 with 2 Axes>"
      ]
     },
     "metadata": {
      "needs_background": "light"
     },
     "output_type": "display_data"
    }
   ],
   "source": [
    "pltb.scatter(all_data.longitude, all_data.latitude, s=50, c=all_data.latitude)\n",
    "pltb.colorbar()\n",
    "\n",
    "ard = dict(arrowstyle=\"->\")\n",
    "\n",
    "pltb.annotate('Ucrania', xy = (31.16558,48.379433), \n",
    "               xytext = (31.16558,51), arrowprops= ard)\n",
    "\n",
    "pltb.annotate('EEUU', xy = (-95.712891, 37.09024), \n",
    "               xytext = (-95.712891, 40), arrowprops = ard)\n",
    "\n",
    "pltb.annotate('Brasil', xy = (-51.92528, -14.235004), \n",
    "               xytext = (-51.92528, -11), arrowprops= ard)\n",
    "\n",
    "pltb.annotate('Australia', xy = (133.775136, -25.274398), \n",
    "               xytext = (133.775136, -22), arrowprops= ard)\n",
    "\n",
    "pltb.annotate('Noruega', xy = (8.468946, 60.472024), \n",
    "               xytext = (8.468946, 63), arrowprops= ard)\n",
    "\n",
    "pltb.annotate('China', xy = (104.195397, 35.86166), \n",
    "               xytext = (104.195397, 39), arrowprops= ard)\n",
    "\n",
    "params = pltb.gcf()\n",
    "plSize = params.get_size_inches()\n",
    "params.set_size_inches( (plSize[0] * 3, plSize[1] * 3) )\n",
    "\n",
    "pltb.savefig(\"Map of Science.png\")"
   ]
  },
  {
   "cell_type": "code",
   "execution_count": null,
   "id": "9da0c553",
   "metadata": {},
   "outputs": [],
   "source": []
  }
 ],
 "metadata": {
  "kernelspec": {
   "display_name": "Python 3 (ipykernel)",
   "language": "python",
   "name": "python3"
  },
  "language_info": {
   "codemirror_mode": {
    "name": "ipython",
    "version": 3
   },
   "file_extension": ".py",
   "mimetype": "text/x-python",
   "name": "python",
   "nbconvert_exporter": "python",
   "pygments_lexer": "ipython3",
   "version": "3.9.7"
  }
 },
 "nbformat": 4,
 "nbformat_minor": 5
}
