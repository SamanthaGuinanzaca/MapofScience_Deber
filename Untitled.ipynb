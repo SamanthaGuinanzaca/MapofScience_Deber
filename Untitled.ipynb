{
 "cells": [
  {
   "cell_type": "markdown",
   "id": "a2de69df",
   "metadata": {},
   "source": [
    "## <center><h1 style=\"color:red\">Map of Science</h1></center> \n",
    "### Solución del deber\n",
    "#### Bioinformatica \n",
    "#### Nombre: Samantha Guiñanzaca\n",
    "#### Grupo 1 \n",
    " * Basado en las sesiones de Visualización de datos y Expresiones resulares. Realice una adaptación de la solución del MAP OF SCIENCE. * "
   ]
  },
  {
   "cell_type": "markdown",
   "id": "5fe7835c",
   "metadata": {},
   "source": [
    "### Importar módulos "
   ]
  },
  {
   "cell_type": "code",
   "execution_count": 3,
   "id": "f1c173ec",
   "metadata": {},
   "outputs": [],
   "source": [
    "import re\n",
    "import csv\n",
    "import pandas as pd\n",
    "import matplotlib.pyplot as pltb\n",
    "import itertools"
   ]
  },
  {
   "cell_type": "code",
   "execution_count": 4,
   "id": "8dd6dbbd",
   "metadata": {},
   "outputs": [],
   "source": [
    "with open('./pubmed_MEG3incanc_set.txt','r', encoding ='utf-8-sig') as f:\n",
    "    texto = f.read()"
   ]
  },
  {
   "cell_type": "code",
   "execution_count": 5,
   "id": "f40eaac6",
   "metadata": {},
   "outputs": [],
   "source": [
    "texto1 = re.findall(r\"\\,\\s[A-Z]+[A-z]{2,11}\\.\", texto)"
   ]
  },
  {
   "cell_type": "code",
   "execution_count": 6,
   "id": "6f6dafd2",
   "metadata": {},
   "outputs": [
    {
     "name": "stdout",
     "output_type": "stream",
     "text": [
      "[', Argentina.', ', Australia.', ', Austria.', ', Basel.', ', Belgium.', ', Brazil.', ', Canada.', ', China.', ', Denmark.', ', Egypt.', ', France.', ', Germany.', ', Greece.', ', Hungary.', ', Iceland.', ', Illinois.', ', Inc.', ', India.', ', Iran.', ', Iraq.', ', Italy.', ', Japan.', ', Junko].', ', Korea.', ', Latvia.', ', Lithuania.', ', Ltd.', ', Maryland.', ', Mexico.', ', Michigan.', ', Netherlands.', ', Norway.', ', Ohio.', ', Pakistan.', ', Poland.', ', Romania.', ', Russia.', ', Singapore.', ', Spain.', ', Sweden.', ', Switzerland.', ', Taiwan.', ', Tex.', ', USA.']\n"
     ]
    }
   ],
   "source": [
    "unique_text =list(set(texto1))\n",
    "unique_text.sort()\n",
    "a = unique_text\n",
    "print(a[:50])"
   ]
  },
  {
   "cell_type": "code",
   "execution_count": 7,
   "id": "56530881",
   "metadata": {},
   "outputs": [],
   "source": [
    "b = unique_text\n",
    "b.remove(', Basel.')\n",
    "b.remove(', Illinois.')\n",
    "b.remove(', Inc.')\n",
    "b.remove(', Junko].')\n",
    "b.remove(', Ltd.')\n",
    "b.remove(', Maryland.')\n",
    "b.remove(', Michigan.')\n",
    "b.remove(', Ohio.')\n",
    "b.remove(', Tex.')"
   ]
  },
  {
   "cell_type": "code",
   "execution_count": 8,
   "id": "3c692e68",
   "metadata": {},
   "outputs": [
    {
     "name": "stdout",
     "output_type": "stream",
     "text": [
      "\n",
      "Lista de países:  [', Argentina.', ', Australia.', ', Austria.', ', Belgium.', ', Brazil.', ', Canada.', ', China.', ', Denmark.', ', Egypt.', ', France.', ', Germany.', ', Greece.', ', Hungary.', ', Iceland.', ', India.', ', Iran.', ', Iraq.', ', Italy.', ', Japan.', ', Korea.', ', Latvia.', ', Lithuania.', ', Mexico.', ', Netherlands.', ', Norway.', ', Pakistan.', ', Poland.', ', Romania.', ', Russia.', ', Singapore.', ', Spain.', ', Sweden.', ', Switzerland.', ', Taiwan.', ', USA.']\n"
     ]
    }
   ],
   "source": [
    "print() \n",
    "print('Lista de países: ', b)"
   ]
  },
  {
   "cell_type": "code",
   "execution_count": 10,
   "id": "178431b6",
   "metadata": {
    "scrolled": true
   },
   "outputs": [
    {
     "name": "stdout",
     "output_type": "stream",
     "text": [
      "\n",
      "Lista def paises definitiva:  ['Argentina', 'Australia', 'Austria', 'Belgium', 'Brazil', 'Canada', 'China', 'Denmark', 'Egypt', 'France', 'Germany', 'Greece', 'Hungary', 'Iceland', 'India', 'Iran', 'Iraq', 'Italy', 'Japan', 'Korea', 'Latvia', 'Lithuania', 'Mexico', 'Netherlands', 'Norway', 'Pakistan', 'Poland', 'Romania', 'Russia', 'Singapore', 'Spain', 'Sweden', 'Switzerland', 'Taiwan', 'USA']\n"
     ]
    }
   ],
   "source": [
    "    c = \"\".join(b)\n",
    "    d = c.split(\", \")\n",
    "    e = \"\".join(d)\n",
    "    f = e.split(\".\")\n",
    "    f.remove(\"\")\n",
    "    g = f\n",
    "    print()\n",
    "    print('Lista def paises definitiva: ', g)"
   ]
  },
  {
   "cell_type": "code",
   "execution_count": null,
   "id": "8d2104c4",
   "metadata": {},
   "outputs": [],
   "source": []
  }
 ],
 "metadata": {
  "kernelspec": {
   "display_name": "Python 3 (ipykernel)",
   "language": "python",
   "name": "python3"
  },
  "language_info": {
   "codemirror_mode": {
    "name": "ipython",
    "version": 3
   },
   "file_extension": ".py",
   "mimetype": "text/x-python",
   "name": "python",
   "nbconvert_exporter": "python",
   "pygments_lexer": "ipython3",
   "version": "3.9.7"
  }
 },
 "nbformat": 4,
 "nbformat_minor": 5
}
